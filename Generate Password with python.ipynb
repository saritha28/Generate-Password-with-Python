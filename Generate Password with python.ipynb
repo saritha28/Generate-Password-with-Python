{
 "cells": [
  {
   "cell_type": "code",
   "execution_count": 1,
   "metadata": {},
   "outputs": [],
   "source": [
    "import random\n",
    "import string"
   ]
  },
  {
   "cell_type": "code",
   "execution_count": null,
   "metadata": {},
   "outputs": [],
   "source": [
    "!pip install random"
   ]
  },
  {
   "cell_type": "code",
   "execution_count": 2,
   "metadata": {},
   "outputs": [
    {
     "name": "stdout",
     "output_type": "stream",
     "text": [
      "Welcome to Code Emblem\n"
     ]
    }
   ],
   "source": [
    "print(\"Welcome to Code Emblem\")"
   ]
  },
  {
   "cell_type": "code",
   "execution_count": 3,
   "metadata": {},
   "outputs": [],
   "source": [
    "#password characters\n",
    "char = string.ascii_letters + string.digits + string.punctuation"
   ]
  },
  {
   "cell_type": "code",
   "execution_count": 4,
   "metadata": {},
   "outputs": [
    {
     "name": "stdout",
     "output_type": "stream",
     "text": [
      "Enter the number of passwords to generate:3\n"
     ]
    }
   ],
   "source": [
    "number = input('Enter the number of passwords to generate:')\n",
    "number = int(number)"
   ]
  },
  {
   "cell_type": "code",
   "execution_count": 5,
   "metadata": {},
   "outputs": [
    {
     "name": "stdout",
     "output_type": "stream",
     "text": [
      "Enter the lenght of your password:12\n"
     ]
    }
   ],
   "source": [
    "length = input('Enter the lenght of your password:')\n",
    "length = int(length)"
   ]
  },
  {
   "cell_type": "code",
   "execution_count": 6,
   "metadata": {},
   "outputs": [
    {
     "name": "stdout",
     "output_type": "stream",
     "text": [
      "\n",
      "Here is your passwords:\n",
      "P47;`B%/B=cd\n",
      "K2|>corA3:;[\n",
      "v*knuxB{W<?=\n"
     ]
    }
   ],
   "source": [
    "print('\\nHere is your passwords:')\n",
    "\n",
    "for pswd in range(number):\n",
    "    passwords = ''\n",
    "    for ch in range(length):\n",
    "        passwords += random.choice(char)\n",
    "    print(passwords)\n",
    "        "
   ]
  },
  {
   "cell_type": "code",
   "execution_count": null,
   "metadata": {},
   "outputs": [],
   "source": []
  }
 ],
 "metadata": {
  "kernelspec": {
   "display_name": "Python 3",
   "language": "python",
   "name": "python3"
  },
  "language_info": {
   "codemirror_mode": {
    "name": "ipython",
    "version": 3
   },
   "file_extension": ".py",
   "mimetype": "text/x-python",
   "name": "python",
   "nbconvert_exporter": "python",
   "pygments_lexer": "ipython3",
   "version": "3.7.4"
  }
 },
 "nbformat": 4,
 "nbformat_minor": 2
}
